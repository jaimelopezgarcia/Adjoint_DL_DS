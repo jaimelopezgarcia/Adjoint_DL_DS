{
 "cells": [
  {
   "cell_type": "code",
   "execution_count": 1,
   "metadata": {},
   "outputs": [],
   "source": [
    "%load_ext autoreload\n",
    "%autoreload 2"
   ]
  },
  {
   "cell_type": "code",
   "execution_count": 2,
   "metadata": {},
   "outputs": [],
   "source": [
    "import torch \n",
    "import numpy as np\n",
    "import matplotlib.pyplot as plt\n",
    "import plotly as py\n",
    "import plotly.graph_objects as go\n",
    "import plotly.express as px\n",
    "from plotly.subplots import make_subplots\n",
    "from scipy.integrate import odeint\n",
    "#from video_image.formats_conversion import mplib_gif_wrapper\n",
    "from functools import partial\n",
    "import torchvision\n",
    "from torch.utils.data import DataLoader,TensorDataset\n"
   ]
  },
  {
   "cell_type": "markdown",
   "metadata": {},
   "source": [
    "$e^{i\\pi} +1 = 0$"
   ]
  },
  {
   "cell_type": "markdown",
   "metadata": {},
   "source": [
    "$$e^x=\\sum_{i=0}^\\infty \\frac{1}{i!}x^i$$"
   ]
  },
  {
   "cell_type": "markdown",
   "metadata": {},
   "source": [
    "\\begin{equation}\n",
    "  D_{it} =\n",
    "    \\begin{cases}\n",
    "      1 & \\text{if bank $i$ issues ABs at time $t$}\\\\\n",
    "      2 & \\text{if bank $i$ issues CBs at time $t$}\\\\\n",
    "      0 & \\text{otherwise}\n",
    "    \\end{cases}  \n",
    "\\end{equation}"
   ]
  },
  {
   "cell_type": "markdown",
   "metadata": {},
   "source": [
    "# Motivation"
   ]
  },
  {
   "cell_type": "markdown",
   "metadata": {},
   "source": [
    "## General problem"
   ]
  },
  {
   "cell_type": "markdown",
   "metadata": {},
   "source": [
    "\\begin{equation}\n",
    "    J:X \\times P \\rightarrow \\Re\n",
    "\\end{equation}\n",
    "    \n",
    "\\begin{equation}\n",
    "     G:X \\times P \\rightarrow X\n",
    "\\end{equation}"
   ]
  },
  {
   "cell_type": "markdown",
   "metadata": {},
   "source": [
    "Where X and P might be scalars, vectors or time dependent functions"
   ]
  },
  {
   "cell_type": "markdown",
   "metadata": {},
   "source": [
    "## Specific examples that adhere to this formulation"
   ]
  },
  {
   "cell_type": "markdown",
   "metadata": {},
   "source": [
    "### Constrained least squares, neural nets as a case of this review"
   ]
  },
  {
   "cell_type": "markdown",
   "metadata": {},
   "source": [
    "### LQR Controller, co-state"
   ]
  },
  {
   "cell_type": "markdown",
   "metadata": {},
   "source": [
    "### time dependence optimal control"
   ]
  },
  {
   "cell_type": "markdown",
   "metadata": {},
   "source": [
    "### Inverse problems"
   ]
  },
  {
   "cell_type": "markdown",
   "metadata": {},
   "source": [
    "## General derivation vector states"
   ]
  },
  {
   "cell_type": "markdown",
   "metadata": {},
   "source": [
    "## Derivation for vector states when objective only depends on the last state, Neural nets, discrete odes ...."
   ]
  },
  {
   "cell_type": "markdown",
   "metadata": {},
   "source": [
    "\\begin{array}{lc}\n",
    "\\underset{p}{\\mbox{minimize}} & J(x_{T},p)  \\\\\n",
    "\\end{array}"
   ]
  },
  {
   "cell_type": "markdown",
   "metadata": {},
   "source": [
    "\\begin{array}{lcm}\n",
    "\\mbox{subject to} & g(x,p) = 0 = &   \\begin{cases} \n",
    "      g(x_{T},x_{T-1},p) = 0  \\\\\n",
    "      g(x_{T-1},x_{T-2},p) = 0 \\\\\n",
    "      \\vdots \\\\\n",
    "      g(x_{2},x_{1},p) = 0\\\\\n",
    "      g(x_{1},x_{0},p) = 0 \\\\\n",
    "      g(x_{0},p) = 0\n",
    "   \\end{cases} \\\\\n",
    "\\end{array}"
   ]
  },
  {
   "cell_type": "markdown",
   "metadata": {},
   "source": [
    "\\begin{equation}\n",
    "J_{aug}(x_{T},p) = J(x_{T},p) + \\lambda_{T}g(x_{T},x_{T-1},p) + \\lambda_{T-1}g(x_{T-1},x_{T-2},p) \\ldots \\lambda_{1}g(x_{1},x_{0},p)+ \\lambda_{0}g(x_{0},p)\n",
    "\\end{equation}"
   ]
  },
  {
   "cell_type": "markdown",
   "metadata": {},
   "source": [
    "\\begin{equation}\n",
    "d_{p} J_{aug} = \\partial_{p} J + \\partial_{x}J \\partial_{p}x+\n",
    "\\lambda_{T}(\\partial_{x_{T}}g_{T}d_{p}x_{T} + \\partial_{x_{T-1}}g_{T}d_{p}x_{T-1}+\\partial_{p}g_{T})+\n",
    "\\lambda_{T-1}(\\partial_{x_{T-1}}g_{T-1}d_{p}x_{T-1} + \\partial_{x_{T-2}}g_{T-1}d_{p}x_{T-2}+\\partial_{p}g_{T-1})+\n",
    "\\ldots\n",
    "\\lambda_{1}(\\partial_{x_{1}}g_{1}d_{p}x_{1} + \\partial_{x_{0}}g_{1}d_{p}x_{0}+\\partial_{p}g_{1})+\n",
    "\\lambda_{0}(\\partial_{x_{0}}g_{0}d_{p}x_{0} + \\partial_{p}g_{0})\n",
    "\\end{equation}"
   ]
  },
  {
   "cell_type": "markdown",
   "metadata": {},
   "source": [
    "\\begin{equation}\n",
    "d_{p} J_{aug} = \\partial_{p} J +\n",
    "(\\partial_{x}J+\\lambda_{T}\\partial_{x_{T}}g_{T})d_{p}x_{T}+\n",
    "(\\lambda_{T}\\partial_{x_{T-1}}g_{T}+\\lambda_{T-1}\\partial_{x_{T-1}}g_{T-1})d_{p}x_{T-1}\n",
    "\\ldots\n",
    "(\\lambda_{1}\\partial_{x_{0}}g_{1}+\\lambda_{0}\\partial_{x_{0}}g_{0})d_{p}x_{0}+\n",
    "\\lambda_{T}\\partial_{p}g_{T}+\\lambda_{T-1}\\partial_{p}g_{T-1}+\\ldots +\n",
    "\\lambda_{1}\\partial_{p}g_{1}+\n",
    "\\lambda_{0}\\partial_{p}g_{0}\n",
    "\\end{equation}"
   ]
  },
  {
   "cell_type": "markdown",
   "metadata": {},
   "source": [
    "\\begin{array}{lm}\n",
    "\\mbox{backward/adjoint system} & \\begin{cases}\n",
    "        \\partial_{x}J+\\lambda_{T}\\partial_{x_{T}}g_{T} = 0 \\\\\n",
    "        \\lambda_{T}\\partial_{x_{T-1}}g_{T}+\\lambda_{T-1}\\partial_{x_{T-1}}g_{T-1} =0 \\\\\n",
    "        \\vdots \\\\\n",
    "        \\lambda_{1}\\partial_{x_{0}}g_{1}+\\lambda_{0}\\partial_{x_{0}}g_{0} = 0 \\\\\n",
    "        \\end{cases} \\\\\n",
    "\\end{array}"
   ]
  },
  {
   "cell_type": "markdown",
   "metadata": {},
   "source": [
    "\\begin{array}{lm}\n",
    "\\mbox{Gradient} & \\begin{equation}\n",
    "        d_{p} J_{aug} = \\partial_{p} J +\n",
    "        \\lambda_{T}\\partial_{p}g_{T}+\\lambda_{T-1}\\partial_{p}g_{T-1}+\\ldots +\n",
    "        \\lambda_{1}\\partial_{p}g_{1}+\n",
    "        \\lambda_{0}\\partial_{p}g_{0}\n",
    "        \\end{equation}\n",
    "\\end{array}"
   ]
  },
  {
   "cell_type": "markdown",
   "metadata": {},
   "source": [
    "\\begin{array}{lm}\n",
    "\\mbox{forward/state system} &   \\begin{cases} \n",
    "      g(x_{T},x_{T-1},p) = 0  \\\\\n",
    "      g(x_{T-1},x_{T-2},p) = 0 \\\\\n",
    "      \\vdots \\\\\n",
    "      g(x_{2},x_{1},p) = 0\\\\\n",
    "      g(x_{1},x_{0},p) = 0 \\\\\n",
    "      g(x_{0},p) = 0\n",
    "   \\end{cases} \\\\\n",
    "\\end{array}"
   ]
  },
  {
   "cell_type": "markdown",
   "metadata": {},
   "source": [
    "## General derivation time dependent states"
   ]
  },
  {
   "cell_type": "markdown",
   "metadata": {},
   "source": [
    "\\begin{array}{lc}\n",
    "\\underset{p}{\\mbox{minimize}} & J(x(t),p) = \\int_{0}^{T} f(x(t),p) \\,dx  \\\\\n",
    "\\end{array}"
   ]
  },
  {
   "cell_type": "markdown",
   "metadata": {},
   "source": [
    "\\begin{array}{lc}\n",
    "\\mbox{subject to} & \\begin{cases} \n",
    "      g(\\dot{x},x,p) = 0  \\\\\n",
    "      g_{0}(x_{0},p) = 0\n",
    "   \\end{cases} \\\\\n",
    "\\end{array}"
   ]
  },
  {
   "cell_type": "markdown",
   "metadata": {},
   "source": [
    "\\begin{equation}\n",
    " J_{aug} = \\int_{0}^{T} f(x(t),p)+ \\lambda(t)g(\\dot{x},x,p) dt + \\mu g_{0}(x_{0},p)\n",
    " \\end{equation}"
   ]
  },
  {
   "cell_type": "markdown",
   "metadata": {},
   "source": [
    "\\begin{equation}\n",
    " d_{p}J_{aug} = \\int_{0}^{T} \\partial_{p}f+ \\partial_{x}f\\partial_{p}x  + \\lambda(t)(\\partial_{\\dot{x}}g\\underset{\\partial_{x}\\dot{x}\\partial_{p}x=\\dot{\\partial_{p}x}}{\\dot{\\partial_{p}x}} +\n",
    " \\partial_{x}g\\partial_{p}x +\\partial_{p}g)   dt + \n",
    " \\mu (\\partial_{x}g_{0}\\partial_{p}x + \\partial_{p}g_{0})\\Bigr|_{t = 0}\n",
    " \\end{equation}"
   ]
  },
  {
   "cell_type": "markdown",
   "metadata": {},
   "source": [
    "\\begin{equation}\n",
    " d_{p}J_{aug} = \\int_{0}^{T} \\lambda(t)\\partial_{\\dot{x}}g\\dot{\\partial_{p}x} = \\lambda\\partial_{\\dot{x}}g\\partial_{p}{x}\\Bigr|_{t=0}^{t=T}-\\int_{0}^{T} \\dot{\\lambda\\partial_{\\dot{x}}}g\\partial_{p}{x}\n",
    " \\end{equation}"
   ]
  },
  {
   "cell_type": "markdown",
   "metadata": {},
   "source": [
    "\\begin{equation}\n",
    " d_{p}J_{aug} = \\int_{0}^{T} \\partial_{p}f+ \\partial_{x}f\\partial_{p}x  + \\lambda(t)(\\partial_{\\dot{x}}g{\\dot{\\partial_{p}x}} +\n",
    " \\partial_{x}g\\partial_{p}x +\\partial_{p}g)   dt + \n",
    " \\mu (\\partial_{x}g_{0}\\partial_{p}x + \\partial_{p}g_{0})\\Bigr|_{t = 0}\n",
    " \\end{equation}"
   ]
  },
  {
   "cell_type": "markdown",
   "metadata": {},
   "source": [
    "\\begin{equation}\n",
    " d_{p}J_{aug} = \\int_{0}^{T} (\\partial_{x}f - \\dot{\\lambda}\\partial_{\\dot{x}}g-\\lambda\\dot{\\partial_{\\dot{x}}}g+\\lambda\\partial_{x}g)\\partial_{p}x\n",
    " +\\partial_{p}f+\\lambda\\partial_{p}gdt\n",
    " + (\\mu\\partial_{x}g_{0}-\\lambda\\partial_{\\dot{x}}g)\\partial_{p}{x})\\Bigr|_{t = 0} +\\mu\\partial_{p}g_{0}\\Bigr|_{t = 0}\n",
    " \\end{equation}"
   ]
  },
  {
   "cell_type": "markdown",
   "metadata": {},
   "source": [
    "\\begin{array}{lc}\n",
    "\\mbox{forward/state system} & \\begin{cases} \n",
    "      g(\\dot{x},x,p) = 0  \\\\\n",
    "      g_{0}(x_{0},p) = 0\n",
    "   \\end{cases} \\\\\n",
    "\\end{array}"
   ]
  },
  {
   "cell_type": "markdown",
   "metadata": {},
   "source": [
    "\\begin{array}{l}\n",
    "    t \\rightarrow \\tau \\\\\n",
    "    with \\quad t = T-\\tau\n",
    "\\end{array}"
   ]
  },
  {
   "cell_type": "markdown",
   "metadata": {},
   "source": [
    "\\begin{array}{lc}\n",
    "\\mbox{backward/adjoint system} & \\begin{cases} \n",
    "       \\dot{\\lambda(\\tau)}\\partial_{\\dot{x}}g - \\lambda(\\tau)\\dot{\\partial_{\\dot{x}}}g + \\lambda(\\tau)\\partial_{x}g = -\\partial_{x}f  \\\\\n",
    "     \\lambda(\\tau = 0) = 0 \\\\\n",
    "      \\mu=\\lambda\\partial_{\\dot{x}}g\\partial_{x}g_{0}^{-1}\n",
    "   \\end{cases} \\\\\n",
    "\\end{array}"
   ]
  },
  {
   "cell_type": "markdown",
   "metadata": {},
   "source": [
    "\\begin{array}{lc}\n",
    "\\mbox{Gradient} & \\begin{equation}\n",
    " d_{p}J_{aug} = \\int_{0}^{T}  \\partial_{p}f+\\lambda\\partial_{p}gdt+\\mu\\partial_{p}g_{0}\\Bigr|_{t = 0}\n",
    " \\end{equation} \\\\\n",
    "\\end{array}"
   ]
  },
  {
   "cell_type": "markdown",
   "metadata": {},
   "source": [
    "## Derivation for fitting  dynamical systems/odenet to data evaluated at discrete times"
   ]
  },
  {
   "cell_type": "markdown",
   "metadata": {},
   "source": [
    "\\begin{equation}\n",
    "J(x,p) = \\int_{0}^{T} \\sum_{i}^{{Ndata}}(x_{t_{i}}-\\hat{x}(t_{i},p))^{2} \\delta(t_{i}) dt\n",
    "\\end{equation}"
   ]
  },
  {
   "cell_type": "markdown",
   "metadata": {},
   "source": [
    "\\begin{equation}\n",
    "\\partial_{x}f = -2\\sum_{i}^{{Ndata}}(x_{t_{i}}-\\hat{x}(t_{i},p)) \\delta(t_{i}) \n",
    "\\end{equation}"
   ]
  },
  {
   "cell_type": "markdown",
   "metadata": {},
   "source": [
    "\\begin{equation}\n",
    " \\dot{\\lambda}\\partial_{\\dot{x}}g -\\lambda\\dot{\\partial_{\\dot{x}}}g+\\lambda\\partial_{x}g = - \\sum_{i}^{Ndata}A(x_{data},\\hat{x})\\delta(\\tau_{i}) \n",
    "\\end{equation}"
   ]
  },
  {
   "cell_type": "markdown",
   "metadata": {},
   "source": [
    "\\begin{equation}\n",
    "\\lambda(\\tau_{i}^{+})-\\lambda(\\tau_{i}^{-}) = -A(x_{data},\\hat{x}) = 2(x_{t_{i}}-\\hat{x}(t_{i},p))\n",
    "\\end{equation}"
   ]
  },
  {
   "cell_type": "markdown",
   "metadata": {},
   "source": [
    "## Example adjoint fitting linear system to data, analytical and pytorch gradient"
   ]
  },
  {
   "cell_type": "markdown",
   "metadata": {},
   "source": [
    "\\begin{equation}\n",
    "J(x,p) = (x_{T}-\\hat{x}(T,p))^{2}\n",
    "\\end{equation}"
   ]
  },
  {
   "cell_type": "markdown",
   "metadata": {},
   "source": [
    "\\begin{array}{lm}\n",
    "\\mbox{subject to} & \\begin{cases}\n",
    "                    \\dot{x} = pAx \\\\\n",
    "                    x(t_{0}) = x_{0}\n",
    "                    \\end{cases}\n",
    "\\end{array}"
   ]
  },
  {
   "cell_type": "markdown",
   "metadata": {},
   "source": [
    "\\begin{cases}\n",
    "\\partial_{\\dot{x}}g =  \\mathbb 1 \\\\\n",
    "\\dot{\\partial_{\\dot{x}}g} = 0 \\\\\n",
    "\\partial_{x}g = -pA \\\\\n",
    "\\partial_{p}g = -Ax \\\\\n",
    "\\lambda(\\tau = 0) = 2(x_{T}-\\hat{x}(T,p)) \\\\\n",
    "\\mu=\\lambda(\\tau = T)\n",
    "\\end{cases}"
   ]
  },
  {
   "cell_type": "markdown",
   "metadata": {},
   "source": [
    "\\begin{array}{lm}\n",
    "\\mbox{adjoint system} & \\begin{cases}\n",
    "                        \\dot{\\lambda^{T}}-\\lambda^{T}pA = 0 \\\\\n",
    "                        \\lambda^{T}(\\tau = 0) = 2(x_{T}-\\hat{x}(T,p))\n",
    "                        \\end{cases}\n",
    "\\end{array}"
   ]
  },
  {
   "cell_type": "markdown",
   "metadata": {},
   "source": [
    "\\begin{array}{lm}\n",
    "\\mbox{solution forward} & \\begin{cases}\n",
    "                          x = e^{pAt}x_{0}\n",
    "                          \\end{cases}\n",
    "\\end{array}\n",
    "\n",
    "\\begin{array}{lm}\n",
    "\\mbox{solution adjoint} & \\begin{cases}\n",
    "                          \\lambda = e^{pA^{T}\\tau}\\lambda_{0} = e^{pA^{T}\\tau}2(x_{T}-\\hat{x}(T,p))\n",
    "                          \\end{cases}\n",
    "\\end{array}"
   ]
  },
  {
   "cell_type": "markdown",
   "metadata": {},
   "source": [
    "\\begin{array}{lm}\n",
    "\\mbox{Gradient = $d_{p} J(x,p)$ = } & \\begin{cases}\n",
    "            \\int_{\\tau = 0}^{\\tau = T} (e^{pA^{T}\\tau}2(x_{T}-\\hat{x}(\\tau = 0,p)))(A\\hat{x}(\\tau))d\\tau\n",
    "                \\end{cases}\n",
    "\\end{array}"
   ]
  },
  {
   "cell_type": "markdown",
   "metadata": {},
   "source": [
    "## Relation to backpropagation draw graph , using pytorch to fit the system"
   ]
  },
  {
   "cell_type": "markdown",
   "metadata": {},
   "source": []
  },
  {
   "cell_type": "markdown",
   "metadata": {},
   "source": []
  },
  {
   "cell_type": "markdown",
   "metadata": {},
   "source": []
  },
  {
   "cell_type": "markdown",
   "metadata": {},
   "source": []
  },
  {
   "cell_type": "code",
   "execution_count": null,
   "metadata": {},
   "outputs": [],
   "source": [
    "kgt = -1\n",
    "gammagt = -0.2\n",
    "\n",
    "\n",
    "A_ground_truth = np.array([[0.,1.],[kgt,gammagt]])\n",
    "\n",
    "def system_gt(x,t):\n",
    "    dxdt = np.dot(A_ground_truth,x)  \n",
    "    return dxdt\n",
    "\n",
    "tdata = np.arange(0, 7, 0.1)\n",
    "\n",
    "x0_ = [2.,2.]\n",
    "\n",
    "data = odeint(system_gt, x0_, tdata)\n",
    "\n",
    "\n",
    "xf_gt = data[-1]\n",
    "\n",
    "\n",
    "\n",
    "plt.plot(data[:,0],data[:,1])"
   ]
  },
  {
   "cell_type": "code",
   "execution_count": null,
   "metadata": {},
   "outputs": [],
   "source": [
    "def _rk4_step(fun, yk, tk, h):\n",
    "    \n",
    "    k1 = fun(yk, tk)\n",
    "    k2 = fun(yk + h/2*k1, tk + h/2)\n",
    "    k3 = fun(yk + h/2*k2, tk + h/2)\n",
    "    k4 = fun(yk + h*k3, tk + h)\n",
    "    \n",
    "    yk_next = yk + h/6*(k1+2*k2+2*k3+k4)\n",
    "    \n",
    "    return yk_next\n",
    "\n",
    "\n",
    "def rk4(fun, y0, t, retain_grad = False):\n",
    "        \n",
    "    y = []\n",
    "  \n",
    "    h = t[1]-t[0]\n",
    "    yk = y0\n",
    "    y.append(yk)\n",
    "    \n",
    "    for i in range(1,len(t)):\n",
    "        yknext = _rk4_step(fun, yk, t[i-1], h)\n",
    "        yk = yknext\n",
    "        \n",
    "        if retain_grad:\n",
    "            yk.retain_grad()\n",
    "            \n",
    "        y.append(yk)\n",
    "\n",
    "    return y\n",
    "\n",
    "def make_system():\n",
    "\n",
    "    def system_linear(x,t,params):\n",
    "\n",
    "        k,gamma = params[\"k\"], params[\"gamma\"]\n",
    "\n",
    "        dx1dt = x[0][1]\n",
    "        dx2dt = -k*x[0][0]-gamma*x[0][1]\n",
    "\n",
    "        return torch.cat([dx1dt.view(-1,1), dx2dt.view(-1,1)], dim = 1)\n",
    "\n",
    "\n",
    "\n",
    "    k = torch.tensor([1]) \n",
    "    gamma = torch.nn.Parameter( torch.tensor([0.01]) )\n",
    "\n",
    "\n",
    "\n",
    "    params = {\"k\":k,\"gamma\":gamma}\n",
    "\n",
    "    system = partial(system_linear, params = params)\n",
    "    \n",
    "    return system, params\n",
    "\n",
    "\n",
    "\n",
    "def forward_pass(x0,T, system):\n",
    "    \n",
    "    out = rk4(system, x0, T, retain_grad = True)\n",
    "    \n",
    "    return out\n",
    "\n",
    "def backward_pass(xpred, xdata):\n",
    "    \n",
    "    loss = torch.mean( torch.square(xpred-xdata))\n",
    "    \n",
    "    loss.backward()\n",
    "    \n",
    "    return loss\n",
    "\n",
    "def make_numpy(out: list):\n",
    "    \n",
    "    with torch.no_grad():\n",
    "    \n",
    "        out = out.detach().numpy()\n",
    "    \n",
    "    return out\n",
    "\n",
    "def make_grads_numpy(out: list):\n",
    "    \"\"\" picked in inverse order \"\"\"\n",
    "    \n",
    "    with torch.no_grad():\n",
    "        \n",
    "        grads = [out[-i-1].grad.numpy() for i in range(len(out))]\n",
    "        grads = np.concatenate(grads,axis=0)\n",
    "    \n",
    "    return grads\n",
    "\n",
    "\n",
    "\n",
    "def train_loop(T,xdata,indices_data, x0, epochs, register,system, params):\n",
    "    \n",
    "    \n",
    "    \n",
    "    optim = torch.optim.Adam([params[\"gamma\"]],lr = 0.01)\n",
    "\n",
    "    xdata = torch.tensor(xdata)\n",
    "    \n",
    "    for i in range(epochs):\n",
    "        optim.zero_grad()\n",
    "\n",
    "        out = forward_pass(x0, T, system)\n",
    "        \n",
    "        xpred = torch.cat([out[i] for i in indices_data], dim = 0)\n",
    "        \n",
    "       \n",
    "        loss = backward_pass(xpred, xdata)\n",
    "        \n",
    "        optim.step()\n",
    "\n",
    "        if i%10==0:\n",
    "            print(\"{}  {}\".format(i,loss))\n",
    "\n",
    "        if i%1==0:\n",
    "            with torch.no_grad():\n",
    "                \n",
    "                _out = torch.cat(out, dim = 0)\n",
    "                \n",
    "                _out = make_numpy(_out[1:])\n",
    "                \n",
    "                _grads = make_grads_numpy(out[1:])\n",
    "                \n",
    "                register[\"outs\"].append(_out)\n",
    "                register[\"grads\"].append(_grads)\n",
    "    "
   ]
  },
  {
   "cell_type": "code",
   "execution_count": null,
   "metadata": {},
   "outputs": [],
   "source": [
    "indices_data = [-1]\n",
    "\n",
    "xdata =data[indices_data]\n",
    "\n",
    "x0 = torch.tensor(x0_).view(1,-1)\n",
    "\n",
    "T = torch.tensor(tdata)\n",
    "\n",
    "epochs = 60\n",
    "\n",
    "register = {\"outs\": [],\n",
    "            \"grads\": []}\n",
    "\n",
    "system, params = make_system()\n",
    "\n",
    "train_loop(T, xdata, indices_data ,x0, epochs, register,system, params)"
   ]
  },
  {
   "cell_type": "code",
   "execution_count": null,
   "metadata": {},
   "outputs": [],
   "source": [
    "indices_data = [-1]\n",
    "\n",
    "xdata =data[indices_data]\n",
    "\n",
    "xdata = torch.tensor(xdata)\n",
    "\n",
    "T = torch.tensor(tdata)\n",
    "x0 = torch.tensor(x0_).view(1,-1)\n",
    "\n",
    "system, params = make_system()\n",
    "\n",
    "out = forward_pass(x0,T,system)\n",
    "\n",
    "xpred = torch.cat([out[i] for i in indices_data], dim = 0)\n",
    "\n",
    "loss = backward_pass(xpred,xdata)\n",
    "\n",
    "_out = torch.cat(out, dim = 0)\n",
    "\n",
    "fwd_pass = make_numpy(_out[1:])\n",
    "\n",
    "bwd_pass = make_grads_numpy(out[1:])"
   ]
  },
  {
   "cell_type": "code",
   "execution_count": null,
   "metadata": {},
   "outputs": [],
   "source": [
    "def make_figure_fwd_bwd(fwd_pass,bwd_pass, data, indices_data):\n",
    "\n",
    "    fig = make_subplots( cols = 2, rows = 1, subplot_titles = (\"Forward Pass\", \"Backward Pass\"))\n",
    "\n",
    "\n",
    "    fig.add_trace( go.Scatter( name = \"forward pass/state\"), row = 1, col = 1)\n",
    "    fig.add_trace( go.Scatter( name = \"backward pass/adjoint state\"), row = 1, col = 2)\n",
    "    fig.add_trace( go.Scatter( x = data[indices_data,0], y = data[indices_data,1], mode = \"markers\",name = \"Data to fit\"), row = 1 ,col = 1)\n",
    "    fig.add_trace( go.Scatter( x = data[:,0], y = data[:,1], mode = \"lines\", name = \"GT trajectory\"), row = 1, col = 1)\n",
    "\n",
    "    axis = dict(range=[-4, 4], autorange=False, zeroline=False)\n",
    "\n",
    "    layout = go.Layout(\n",
    "                    width = 1400,\n",
    "                    height = 800,\n",
    "                    xaxis = axis,\n",
    "                    yaxis = axis,\n",
    "                    xaxis2 = axis,\n",
    "                    yaxis2 = axis,\n",
    "                    updatemenus=[dict(type=\"buttons\",\n",
    "                      buttons=[dict(label=\"Play\",\n",
    "                                    method=\"animate\",\n",
    "                                    args=[None])])])\n",
    "\n",
    "    fig.update_layout(layout)\n",
    "\n",
    "    N = len(fwd_pass)\n",
    "    \n",
    "    frames = []\n",
    "\n",
    "    for k in np.arange(0,2*N,1):\n",
    "\n",
    "\n",
    "        x_start, y_start = data[-1,0], data[-1,1]\n",
    "        x_end, y_end = x_start+bwd_pass[0,0],y_start+bwd_pass[0,1]\n",
    "\n",
    "        _arrow_dict = dict(\n",
    "                        x= x_end,\n",
    "                        y= y_end,\n",
    "                        xref=\"x\", yref=\"y\",\n",
    "                        text=r'$-\\partial_{x}f = \\lambda_{T}$',\n",
    "                        showarrow=True,\n",
    "                        axref = \"x\", ayref=\"y\",\n",
    "                        ax= x_start,\n",
    "                        ay= y_start,\n",
    "                        arrowhead = 3,\n",
    "                        align=\"center\",\n",
    "                        arrowcolor='rgb(255,51,0)',)\n",
    "\n",
    "        arrow1= go.layout.Annotation(dict(\n",
    "                    _arrow_dict\n",
    "                    ))\n",
    "\n",
    "        layout1 = go.Layout(annotations = [arrow1])\n",
    "\n",
    "\n",
    "        _arrow_dict[\"xref\"] , _arrow_dict[\"yref\"]= \"x2\", \"y2\"\n",
    "        _arrow_dict[\"axref\"] , _arrow_dict[\"ayref\"]= \"x2\", \"y2\"\n",
    "\n",
    "        x_end, y_end = bwd_pass[0,0],bwd_pass[0,1]\n",
    "\n",
    "        _arrow_dict[\"x\"] ,_arrow_dict[\"y\"] = x_end, y_end\n",
    "        _arrow_dict[\"ax\"],_arrow_dict[\"ay\"] = 0, 0\n",
    "\n",
    "        arrow2= go.layout.Annotation(dict(\n",
    "                    _arrow_dict\n",
    "                    ))\n",
    "\n",
    "        layout2 = go.Layout(annotations = [arrow1,arrow2])\n",
    "\n",
    "        if k<N:\n",
    "\n",
    "            frame = go.Frame(data=[go.Scatter(name = \"forward pass/state\",\n",
    "                x = fwd_pass[:k,0],\n",
    "                y = fwd_pass[:k,1],\n",
    "                mode=\"lines\")],\n",
    "                   )\n",
    "        elif k>=N:\n",
    "            frame = go.Frame(data=[go.Scatter(name = \"forward pass/state\",\n",
    "                        x = fwd_pass[:N,0],\n",
    "                        y = fwd_pass[:N,1],\n",
    "                        mode=\"lines\"),\n",
    "\n",
    "                          go.Scatter( name = \"backward pass/adjoint state\",\n",
    "                            x = bwd_pass[:k-N,0],\n",
    "                            y = bwd_pass[:k-N,1],\n",
    "                            mode=\"lines\")],\n",
    "                            layout = layout2)\n",
    "\n",
    "        frames.append(frame)\n",
    "\n",
    "\n",
    "\n",
    "    fig.frames = frames\n",
    "\n",
    "    return fig\n",
    "\n",
    "fig = make_figure_fwd_bwd(fwd_pass, bwd_pass, data, indices_data)\n",
    "fig.show()"
   ]
  },
  {
   "cell_type": "markdown",
   "metadata": {},
   "source": [
    "gamma"
   ]
  },
  {
   "cell_type": "code",
   "execution_count": null,
   "metadata": {},
   "outputs": [],
   "source": [
    "import plotly.graph_objects as go\n",
    "\n",
    "import numpy as np\n",
    "\n",
    "\n",
    "\n",
    "\n",
    "# Create figure\n",
    "fig = make_subplots(cols = 2, rows = 1)\n",
    "\n",
    "outs,grads = register[\"outs\"], register[\"grads\"]\n",
    "\n",
    "N = len(outs)\n",
    "\n",
    "\n",
    "fig.add_trace(go.Scatter(), row = 1, col = 1)\n",
    "fig.add_trace(go.Scatter(), row = 1, col = 2)\n",
    "fig.add_trace(go.Scatter(x = data[1:,0], y = data[1:,1]), row = 1, col = 1)\n",
    "\n",
    "\n",
    "layout=go.Layout(\n",
    "    width = 1200,\n",
    "    height = 800,\n",
    "    xaxis=dict(range=[-4, 4], autorange=False, zeroline=False),\n",
    "    yaxis=dict(range=[-4, 4], autorange=False, zeroline=False),\n",
    "    xaxis2=dict(range=[-4, 4], autorange=False, zeroline=False),\n",
    "    yaxis2=dict(range=[-4, 4], autorange=False, zeroline=False),\n",
    " #   title_text=\"Training\", hovermode=\"closest\",\n",
    "    updatemenus=[dict(type=\"buttons\",\n",
    "                      buttons=[dict(label=\"Play\",\n",
    "                                    method=\"animate\",\n",
    "                                    args=[None])])])\n",
    "fig.update_layout(layout)\n",
    "\n",
    "\n",
    "frames=[go.Frame(\n",
    "            data=[go.Scatter(\n",
    "                    x = outs[k][:,0],\n",
    "                    y = outs[k][:,1],\n",
    "                    mode=\"lines\"),\n",
    "                     \n",
    "                go.Scatter(\n",
    "                    x = grads[k][:,0],\n",
    "                    y = grads[k][:,1],\n",
    "                    mode=\"lines\")])\n",
    "        \n",
    "        for k in np.arange(0,N,1)[::1]]\n",
    "\n",
    "fig.frames = frames\n",
    "\n",
    "\n",
    "fig.show()"
   ]
  },
  {
   "cell_type": "markdown",
   "metadata": {},
   "source": [
    "## Resnets as dynamical systems"
   ]
  },
  {
   "cell_type": "code",
   "execution_count": 3,
   "metadata": {},
   "outputs": [
    {
     "name": "stderr",
     "output_type": "stream",
     "text": [
      "/usr/local/lib/python3.8/dist-packages/torchvision/datasets/mnist.py:55: UserWarning: train_data has been renamed data\n",
      "  warnings.warn(\"train_data has been renamed data\")\n",
      "/usr/local/lib/python3.8/dist-packages/torchvision/datasets/mnist.py:45: UserWarning: train_labels has been renamed targets\n",
      "  warnings.warn(\"train_labels has been renamed targets\")\n",
      "/usr/local/lib/python3.8/dist-packages/torchvision/datasets/mnist.py:60: UserWarning: test_data has been renamed data\n",
      "  warnings.warn(\"test_data has been renamed data\")\n",
      "/usr/local/lib/python3.8/dist-packages/torchvision/datasets/mnist.py:50: UserWarning: test_labels has been renamed targets\n",
      "  warnings.warn(\"test_labels has been renamed targets\")\n"
     ]
    }
   ],
   "source": [
    "dataset = torchvision.datasets.FashionMNIST(\"../DL/data\")\n",
    "dataset_test = torchvision.datasets.FashionMNIST(\"../DL/data\",train = False)\n",
    "\n",
    "dt_train = TensorDataset(dataset.train_data.view(len(dataset.train_data),1,28,28).float(),dataset.train_labels)\n",
    "dt_test = TensorDataset(dataset_test.test_data.view(len(dataset_test.test_data),1,28,28).float(),dataset_test.test_labels)"
   ]
  },
  {
   "cell_type": "code",
   "execution_count": 4,
   "metadata": {},
   "outputs": [],
   "source": [
    "from torchdiffeq import odeint, odeint_adjoint"
   ]
  },
  {
   "cell_type": "code",
   "execution_count": 156,
   "metadata": {},
   "outputs": [
    {
     "data": {
      "image/png": "[encoded data removed]",
      "text/plain": [
       "<Figure size 432x288 with 1 Axes>"
      ]
     },
     "metadata": {
      "needs_background": "light"
     },
     "output_type": "display_data"
    }
   ],
   "source": [
    "V = lambda x: 0.5 * x**2 * (0.5 * x**2 - 1)\n",
    "dVdx = lambda x: x**3 - x\n",
    "\n",
    "xgrid = np.linspace(-1.5, 1.5, 100)\n",
    "Vgrid = V(xgrid)\n",
    "\n",
    "#plt.plot(xgrid, Vgrid)\n",
    "#plt.xlabel('$x$')\n",
    "#plt.ylabel('$V(x)$')\n",
    "#plt.figure()\n",
    "def deriv(X, t, gamma, delta, omega):\n",
    "    \"\"\"Return the derivatives dx/dt and d2x/dt2.\"\"\"\n",
    "\n",
    "    x, xdot = X\n",
    "    xdotdot = -dVdx(x) -delta * xdot + gamma * np.cos(omega*t)\n",
    "    return xdot, xdotdot\n",
    "\n",
    "\n",
    "system = partial(deriv, gamma = 0, omega = 1.4, delta = 0.2)\n",
    "from scipy.integrate import odeint as scp_odeint\n",
    "t = np.arange(0,15,0.1)\n",
    "x0 = [0.1,0.5]\n",
    "y = scp_odeint(system,x0,t)\n",
    "plt.plot(y[:,0],y[:,1])\n",
    "\n",
    "xdata = y\n",
    "tdata = t\n",
    "x0data = x0"
   ]
  },
  {
   "cell_type": "code",
   "execution_count": 161,
   "metadata": {},
   "outputs": [],
   "source": [
    "class Net(torch.nn.Module):\n",
    "    def __init__(self,width):\n",
    "        super().__init__()\n",
    "        self.layer1 = torch.nn.Linear(width,width)\n",
    "        self.layer2 = torch.nn.Linear(width,width)\n",
    "        self.layer3 = torch.nn.Linear(width,width)\n",
    "    \n",
    "    def forward(self,t,X):\n",
    "        \n",
    "        X = torch.relu(self.layer1(X))\n",
    "        X = torch.relu(self.layer2(X))\n",
    "        X = self.layer3(X)\n",
    "        \n",
    "        return X\n",
    "\n",
    "class Model(torch.nn.Module):\n",
    "    def __init__(self):\n",
    "        super().__init__()\n",
    "        self.net = Net(10)\n",
    "        self._linear1 = torch.nn.Linear(1,10)\n",
    "        self._linear2 = torch.nn.Linear(10,1)\n",
    "    def forward(self,t,X):\n",
    "        \n",
    "        X = self._linear1(X)\n",
    "        \n",
    "        X = odeint(self.net,X,t)\n",
    "        _X = X[-1,:,:].view(-1,10)\n",
    "        \n",
    "        \n",
    "        X = self._linear2(_X)\n",
    "        \n",
    "        return X\n",
    "    \n",
    "y0 = torch.tensor(x0).float().view(1,-1)\n",
    "    \n",
    "t = torch.tensor(tdata).float()\n",
    "\n",
    "#t = torch.arange(0,10,0.3)\n",
    "xdata_torch = torch.tensor(xdata).float()\n",
    "\n",
    "\n",
    "#xdata = torch.arange(0,1,0.01).float().view(-1,1)\n",
    "#ydata = torch.sin(8*xdata)*xdata**2"
   ]
  },
  {
   "cell_type": "code",
   "execution_count": 91,
   "metadata": {},
   "outputs": [],
   "source": [
    "torch.mean(torch.square(odeint(net,y0,t)-xdata_torch))"
   ]
  },
  {
   "cell_type": "code",
   "execution_count": 143,
   "metadata": {},
   "outputs": [
    {
     "name": "stdout",
     "output_type": "stream",
     "text": [
      "torch.Size([150, 100, 10])\n"
     ]
    },
    {
     "data": {
      "text/plain": [
       "torch.Size([150, 1])"
      ]
     },
     "execution_count": 143,
     "metadata": {},
     "output_type": "execute_result"
    }
   ],
   "source": [
    "m = Model()\n",
    "\n",
    "m(t,xdata).shape"
   ]
  },
  {
   "cell_type": "code",
   "execution_count": 166,
   "metadata": {},
   "outputs": [
    {
     "name": "stdout",
     "output_type": "stream",
     "text": [
      "0 tensor(4.0722, grad_fn=<MeanBackward0>)\n",
      "10 tensor(3.3152, grad_fn=<MeanBackward0>)\n",
      "20 tensor(2.7146, grad_fn=<MeanBackward0>)\n",
      "30 tensor(2.8919, grad_fn=<MeanBackward0>)\n",
      "40 tensor(2.9576, grad_fn=<MeanBackward0>)\n",
      "50 tensor(3.0848, grad_fn=<MeanBackward0>)\n"
     ]
    },
    {
     "ename": "KeyboardInterrupt",
     "evalue": "",
     "output_type": "error",
     "traceback": [
      "\u001b[0;31m---------------------------------------------------------------------------\u001b[0m",
      "\u001b[0;31mKeyboardInterrupt\u001b[0m                         Traceback (most recent call last)",
      "\u001b[0;32m<ipython-input-166-93bae575adde>\u001b[0m in \u001b[0;36m<module>\u001b[0;34m\u001b[0m\n\u001b[1;32m      8\u001b[0m     \u001b[0;31m#out = m(t,xdata)\u001b[0m\u001b[0;34m\u001b[0m\u001b[0;34m\u001b[0m\u001b[0;34m\u001b[0m\u001b[0m\n\u001b[1;32m      9\u001b[0m \u001b[0;34m\u001b[0m\u001b[0m\n\u001b[0;32m---> 10\u001b[0;31m     \u001b[0mout\u001b[0m \u001b[0;34m=\u001b[0m \u001b[0modeint\u001b[0m\u001b[0;34m(\u001b[0m\u001b[0mm\u001b[0m\u001b[0;34m,\u001b[0m\u001b[0my0\u001b[0m\u001b[0;34m,\u001b[0m\u001b[0mt\u001b[0m\u001b[0;34m)\u001b[0m\u001b[0;34m\u001b[0m\u001b[0;34m\u001b[0m\u001b[0m\n\u001b[0m\u001b[1;32m     11\u001b[0m \u001b[0;34m\u001b[0m\u001b[0m\n\u001b[1;32m     12\u001b[0m     \u001b[0m_out\u001b[0m \u001b[0;34m=\u001b[0m \u001b[0mout\u001b[0m\u001b[0;34m[\u001b[0m\u001b[0;34m:\u001b[0m\u001b[0;34m,\u001b[0m\u001b[0;36m0\u001b[0m\u001b[0;34m,\u001b[0m\u001b[0;34m:\u001b[0m\u001b[0;34m]\u001b[0m\u001b[0;34m\u001b[0m\u001b[0;34m\u001b[0m\u001b[0m\n",
      "\u001b[0;32m/usr/local/lib/python3.8/dist-packages/torchdiffeq/_impl/odeint.py\u001b[0m in \u001b[0;36modeint\u001b[0;34m(func, y0, t, rtol, atol, method, options)\u001b[0m\n\u001b[1;32m     63\u001b[0m \u001b[0;34m\u001b[0m\u001b[0m\n\u001b[1;32m     64\u001b[0m     \u001b[0msolver\u001b[0m \u001b[0;34m=\u001b[0m \u001b[0mSOLVERS\u001b[0m\u001b[0;34m[\u001b[0m\u001b[0mmethod\u001b[0m\u001b[0;34m]\u001b[0m\u001b[0;34m(\u001b[0m\u001b[0mfunc\u001b[0m\u001b[0;34m=\u001b[0m\u001b[0mfunc\u001b[0m\u001b[0;34m,\u001b[0m \u001b[0my0\u001b[0m\u001b[0;34m=\u001b[0m\u001b[0my0\u001b[0m\u001b[0;34m,\u001b[0m \u001b[0mrtol\u001b[0m\u001b[0;34m=\u001b[0m\u001b[0mrtol\u001b[0m\u001b[0;34m,\u001b[0m \u001b[0matol\u001b[0m\u001b[0;34m=\u001b[0m\u001b[0matol\u001b[0m\u001b[0;34m,\u001b[0m \u001b[0;34m**\u001b[0m\u001b[0moptions\u001b[0m\u001b[0;34m)\u001b[0m\u001b[0;34m\u001b[0m\u001b[0;34m\u001b[0m\u001b[0m\n\u001b[0;32m---> 65\u001b[0;31m     \u001b[0msolution\u001b[0m \u001b[0;34m=\u001b[0m \u001b[0msolver\u001b[0m\u001b[0;34m.\u001b[0m\u001b[0mintegrate\u001b[0m\u001b[0;34m(\u001b[0m\u001b[0mt\u001b[0m\u001b[0;34m)\u001b[0m\u001b[0;34m\u001b[0m\u001b[0;34m\u001b[0m\u001b[0m\n\u001b[0m\u001b[1;32m     66\u001b[0m \u001b[0;34m\u001b[0m\u001b[0m\n\u001b[1;32m     67\u001b[0m     \u001b[0;32mif\u001b[0m \u001b[0mshapes\u001b[0m \u001b[0;32mis\u001b[0m \u001b[0;32mnot\u001b[0m \u001b[0;32mNone\u001b[0m\u001b[0;34m:\u001b[0m\u001b[0;34m\u001b[0m\u001b[0;34m\u001b[0m\u001b[0m\n",
      "\u001b[0;32m/usr/local/lib/python3.8/dist-packages/torchdiffeq/_impl/solvers.py\u001b[0m in \u001b[0;36mintegrate\u001b[0;34m(self, t)\u001b[0m\n\u001b[1;32m     27\u001b[0m         \u001b[0mself\u001b[0m\u001b[0;34m.\u001b[0m\u001b[0m_before_integrate\u001b[0m\u001b[0;34m(\u001b[0m\u001b[0mt\u001b[0m\u001b[0;34m)\u001b[0m\u001b[0;34m\u001b[0m\u001b[0;34m\u001b[0m\u001b[0m\n\u001b[1;32m     28\u001b[0m         \u001b[0;32mfor\u001b[0m \u001b[0mi\u001b[0m \u001b[0;32min\u001b[0m \u001b[0mrange\u001b[0m\u001b[0;34m(\u001b[0m\u001b[0;36m1\u001b[0m\u001b[0;34m,\u001b[0m \u001b[0mlen\u001b[0m\u001b[0;34m(\u001b[0m\u001b[0mt\u001b[0m\u001b[0;34m)\u001b[0m\u001b[0;34m)\u001b[0m\u001b[0;34m:\u001b[0m\u001b[0;34m\u001b[0m\u001b[0;34m\u001b[0m\u001b[0m\n\u001b[0;32m---> 29\u001b[0;31m             \u001b[0msolution\u001b[0m\u001b[0;34m[\u001b[0m\u001b[0mi\u001b[0m\u001b[0;34m]\u001b[0m \u001b[0;34m=\u001b[0m \u001b[0mself\u001b[0m\u001b[0;34m.\u001b[0m\u001b[0m_advance\u001b[0m\u001b[0;34m(\u001b[0m\u001b[0mt\u001b[0m\u001b[0;34m[\u001b[0m\u001b[0mi\u001b[0m\u001b[0;34m]\u001b[0m\u001b[0;34m)\u001b[0m\u001b[0;34m\u001b[0m\u001b[0;34m\u001b[0m\u001b[0m\n\u001b[0m\u001b[1;32m     30\u001b[0m         \u001b[0;32mreturn\u001b[0m \u001b[0msolution\u001b[0m\u001b[0;34m\u001b[0m\u001b[0;34m\u001b[0m\u001b[0m\n\u001b[1;32m     31\u001b[0m \u001b[0;34m\u001b[0m\u001b[0m\n",
      "\u001b[0;32m/usr/local/lib/python3.8/dist-packages/torchdiffeq/_impl/rk_common.py\u001b[0m in \u001b[0;36m_advance\u001b[0;34m(self, next_t)\u001b[0m\n\u001b[1;32m    153\u001b[0m         \u001b[0;32mwhile\u001b[0m \u001b[0mnext_t\u001b[0m \u001b[0;34m>\u001b[0m \u001b[0mself\u001b[0m\u001b[0;34m.\u001b[0m\u001b[0mrk_state\u001b[0m\u001b[0;34m.\u001b[0m\u001b[0mt1\u001b[0m\u001b[0;34m:\u001b[0m\u001b[0;34m\u001b[0m\u001b[0;34m\u001b[0m\u001b[0m\n\u001b[1;32m    154\u001b[0m             \u001b[0;32massert\u001b[0m \u001b[0mn_steps\u001b[0m \u001b[0;34m<\u001b[0m \u001b[0mself\u001b[0m\u001b[0;34m.\u001b[0m\u001b[0mmax_num_steps\u001b[0m\u001b[0;34m,\u001b[0m \u001b[0;34m'max_num_steps exceeded ({}>={})'\u001b[0m\u001b[0;34m.\u001b[0m\u001b[0mformat\u001b[0m\u001b[0;34m(\u001b[0m\u001b[0mn_steps\u001b[0m\u001b[0;34m,\u001b[0m \u001b[0mself\u001b[0m\u001b[0;34m.\u001b[0m\u001b[0mmax_num_steps\u001b[0m\u001b[0;34m)\u001b[0m\u001b[0;34m\u001b[0m\u001b[0;34m\u001b[0m\u001b[0m\n\u001b[0;32m--> 155\u001b[0;31m             \u001b[0mself\u001b[0m\u001b[0;34m.\u001b[0m\u001b[0mrk_state\u001b[0m \u001b[0;34m=\u001b[0m \u001b[0mself\u001b[0m\u001b[0;34m.\u001b[0m\u001b[0m_adaptive_step\u001b[0m\u001b[0;34m(\u001b[0m\u001b[0mself\u001b[0m\u001b[0;34m.\u001b[0m\u001b[0mrk_state\u001b[0m\u001b[0;34m)\u001b[0m\u001b[0;34m\u001b[0m\u001b[0;34m\u001b[0m\u001b[0m\n\u001b[0m\u001b[1;32m    156\u001b[0m             \u001b[0mn_steps\u001b[0m \u001b[0;34m+=\u001b[0m \u001b[0;36m1\u001b[0m\u001b[0;34m\u001b[0m\u001b[0;34m\u001b[0m\u001b[0m\n\u001b[1;32m    157\u001b[0m         \u001b[0;32mreturn\u001b[0m \u001b[0m_interp_evaluate\u001b[0m\u001b[0;34m(\u001b[0m\u001b[0mself\u001b[0m\u001b[0;34m.\u001b[0m\u001b[0mrk_state\u001b[0m\u001b[0;34m.\u001b[0m\u001b[0minterp_coeff\u001b[0m\u001b[0;34m,\u001b[0m \u001b[0mself\u001b[0m\u001b[0;34m.\u001b[0m\u001b[0mrk_state\u001b[0m\u001b[0;34m.\u001b[0m\u001b[0mt0\u001b[0m\u001b[0;34m,\u001b[0m \u001b[0mself\u001b[0m\u001b[0;34m.\u001b[0m\u001b[0mrk_state\u001b[0m\u001b[0;34m.\u001b[0m\u001b[0mt1\u001b[0m\u001b[0;34m,\u001b[0m \u001b[0mnext_t\u001b[0m\u001b[0;34m)\u001b[0m\u001b[0;34m\u001b[0m\u001b[0;34m\u001b[0m\u001b[0m\n",
      "\u001b[0;32m/usr/local/lib/python3.8/dist-packages/torchdiffeq/_impl/rk_common.py\u001b[0m in \u001b[0;36m_adaptive_step\u001b[0;34m(self, rk_state)\u001b[0m\n\u001b[1;32m    187\u001b[0m             \u001b[0meps\u001b[0m \u001b[0;34m=\u001b[0m \u001b[0;36m0\u001b[0m\u001b[0;34m\u001b[0m\u001b[0;34m\u001b[0m\u001b[0m\n\u001b[1;32m    188\u001b[0m \u001b[0;34m\u001b[0m\u001b[0m\n\u001b[0;32m--> 189\u001b[0;31m         \u001b[0my1\u001b[0m\u001b[0;34m,\u001b[0m \u001b[0mf1\u001b[0m\u001b[0;34m,\u001b[0m \u001b[0my1_error\u001b[0m\u001b[0;34m,\u001b[0m \u001b[0mk\u001b[0m \u001b[0;34m=\u001b[0m \u001b[0m_runge_kutta_step\u001b[0m\u001b[0;34m(\u001b[0m\u001b[0mself\u001b[0m\u001b[0;34m.\u001b[0m\u001b[0mfunc\u001b[0m\u001b[0;34m,\u001b[0m \u001b[0my0\u001b[0m\u001b[0;34m,\u001b[0m \u001b[0mf0\u001b[0m\u001b[0;34m,\u001b[0m \u001b[0mt0\u001b[0m\u001b[0;34m,\u001b[0m \u001b[0mdt\u001b[0m\u001b[0;34m,\u001b[0m \u001b[0mtableau\u001b[0m\u001b[0;34m=\u001b[0m\u001b[0mself\u001b[0m\u001b[0;34m.\u001b[0m\u001b[0mtableau\u001b[0m\u001b[0;34m)\u001b[0m\u001b[0;34m\u001b[0m\u001b[0;34m\u001b[0m\u001b[0m\n\u001b[0m\u001b[1;32m    190\u001b[0m         \u001b[0;31m# dtypes:\u001b[0m\u001b[0;34m\u001b[0m\u001b[0;34m\u001b[0m\u001b[0;34m\u001b[0m\u001b[0m\n\u001b[1;32m    191\u001b[0m         \u001b[0;31m# y1.dtype == self.y0.dtype\u001b[0m\u001b[0;34m\u001b[0m\u001b[0;34m\u001b[0m\u001b[0;34m\u001b[0m\u001b[0m\n",
      "\u001b[0;32m/usr/local/lib/python3.8/dist-packages/torchdiffeq/_impl/rk_common.py\u001b[0m in \u001b[0;36m_runge_kutta_step\u001b[0;34m(func, y0, f0, t0, dt, tableau)\u001b[0m\n\u001b[1;32m     65\u001b[0m         \u001b[0mti\u001b[0m \u001b[0;34m=\u001b[0m \u001b[0mt0\u001b[0m \u001b[0;34m+\u001b[0m \u001b[0malpha_i\u001b[0m \u001b[0;34m*\u001b[0m \u001b[0mdt\u001b[0m\u001b[0;34m\u001b[0m\u001b[0;34m\u001b[0m\u001b[0m\n\u001b[1;32m     66\u001b[0m         \u001b[0myi\u001b[0m \u001b[0;34m=\u001b[0m \u001b[0my0\u001b[0m \u001b[0;34m+\u001b[0m \u001b[0mk\u001b[0m\u001b[0;34m[\u001b[0m\u001b[0;34m...\u001b[0m\u001b[0;34m,\u001b[0m \u001b[0;34m:\u001b[0m\u001b[0mi\u001b[0m \u001b[0;34m+\u001b[0m \u001b[0;36m1\u001b[0m\u001b[0;34m]\u001b[0m\u001b[0;34m.\u001b[0m\u001b[0mmatmul\u001b[0m\u001b[0;34m(\u001b[0m\u001b[0mbeta_i\u001b[0m \u001b[0;34m*\u001b[0m \u001b[0mdt\u001b[0m\u001b[0;34m)\u001b[0m\u001b[0;34m.\u001b[0m\u001b[0mview_as\u001b[0m\u001b[0;34m(\u001b[0m\u001b[0mf0\u001b[0m\u001b[0;34m)\u001b[0m\u001b[0;34m\u001b[0m\u001b[0;34m\u001b[0m\u001b[0m\n\u001b[0;32m---> 67\u001b[0;31m         \u001b[0mf\u001b[0m \u001b[0;34m=\u001b[0m \u001b[0mfunc\u001b[0m\u001b[0;34m(\u001b[0m\u001b[0mti\u001b[0m\u001b[0;34m,\u001b[0m \u001b[0myi\u001b[0m\u001b[0;34m)\u001b[0m\u001b[0;34m\u001b[0m\u001b[0;34m\u001b[0m\u001b[0m\n\u001b[0m\u001b[1;32m     68\u001b[0m         \u001b[0mk\u001b[0m \u001b[0;34m=\u001b[0m \u001b[0m_UncheckedAssign\u001b[0m\u001b[0;34m.\u001b[0m\u001b[0mapply\u001b[0m\u001b[0;34m(\u001b[0m\u001b[0mk\u001b[0m\u001b[0;34m,\u001b[0m \u001b[0mf\u001b[0m\u001b[0;34m,\u001b[0m \u001b[0;34m(\u001b[0m\u001b[0;34m...\u001b[0m\u001b[0;34m,\u001b[0m \u001b[0mi\u001b[0m \u001b[0;34m+\u001b[0m \u001b[0;36m1\u001b[0m\u001b[0;34m)\u001b[0m\u001b[0;34m)\u001b[0m\u001b[0;34m\u001b[0m\u001b[0;34m\u001b[0m\u001b[0m\n\u001b[1;32m     69\u001b[0m \u001b[0;34m\u001b[0m\u001b[0m\n",
      "\u001b[0;32m/usr/local/lib/python3.8/dist-packages/torchdiffeq/_impl/rk_common.py\u001b[0m in \u001b[0;36m<lambda>\u001b[0;34m(t, y)\u001b[0m\n\u001b[1;32m    118\u001b[0m         \u001b[0mdevice\u001b[0m \u001b[0;34m=\u001b[0m \u001b[0my0\u001b[0m\u001b[0;34m.\u001b[0m\u001b[0mdevice\u001b[0m\u001b[0;34m\u001b[0m\u001b[0;34m\u001b[0m\u001b[0m\n\u001b[1;32m    119\u001b[0m \u001b[0;34m\u001b[0m\u001b[0m\n\u001b[0;32m--> 120\u001b[0;31m         \u001b[0mself\u001b[0m\u001b[0;34m.\u001b[0m\u001b[0mfunc\u001b[0m \u001b[0;34m=\u001b[0m \u001b[0;32mlambda\u001b[0m \u001b[0mt\u001b[0m\u001b[0;34m,\u001b[0m \u001b[0my\u001b[0m\u001b[0;34m:\u001b[0m \u001b[0mfunc\u001b[0m\u001b[0;34m(\u001b[0m\u001b[0mt\u001b[0m\u001b[0;34m.\u001b[0m\u001b[0mtype_as\u001b[0m\u001b[0;34m(\u001b[0m\u001b[0my\u001b[0m\u001b[0;34m)\u001b[0m\u001b[0;34m,\u001b[0m \u001b[0my\u001b[0m\u001b[0;34m)\u001b[0m\u001b[0;34m\u001b[0m\u001b[0;34m\u001b[0m\u001b[0m\n\u001b[0m\u001b[1;32m    121\u001b[0m         \u001b[0mself\u001b[0m\u001b[0;34m.\u001b[0m\u001b[0mrtol\u001b[0m \u001b[0;34m=\u001b[0m \u001b[0mtorch\u001b[0m\u001b[0;34m.\u001b[0m\u001b[0mas_tensor\u001b[0m\u001b[0;34m(\u001b[0m\u001b[0mrtol\u001b[0m\u001b[0;34m,\u001b[0m \u001b[0mdtype\u001b[0m\u001b[0;34m=\u001b[0m\u001b[0mdtype\u001b[0m\u001b[0;34m,\u001b[0m \u001b[0mdevice\u001b[0m\u001b[0;34m=\u001b[0m\u001b[0mdevice\u001b[0m\u001b[0;34m)\u001b[0m\u001b[0;34m\u001b[0m\u001b[0;34m\u001b[0m\u001b[0m\n\u001b[1;32m    122\u001b[0m         \u001b[0mself\u001b[0m\u001b[0;34m.\u001b[0m\u001b[0matol\u001b[0m \u001b[0;34m=\u001b[0m \u001b[0mtorch\u001b[0m\u001b[0;34m.\u001b[0m\u001b[0mas_tensor\u001b[0m\u001b[0;34m(\u001b[0m\u001b[0matol\u001b[0m\u001b[0;34m,\u001b[0m \u001b[0mdtype\u001b[0m\u001b[0;34m=\u001b[0m\u001b[0mdtype\u001b[0m\u001b[0;34m,\u001b[0m \u001b[0mdevice\u001b[0m\u001b[0;34m=\u001b[0m\u001b[0mdevice\u001b[0m\u001b[0;34m)\u001b[0m\u001b[0;34m\u001b[0m\u001b[0;34m\u001b[0m\u001b[0m\n",
      "\u001b[0;32m/usr/local/lib/python3.8/dist-packages/torch/nn/modules/module.py\u001b[0m in \u001b[0;36m_call_impl\u001b[0;34m(self, *input, **kwargs)\u001b[0m\n\u001b[1;32m    720\u001b[0m             \u001b[0mresult\u001b[0m \u001b[0;34m=\u001b[0m \u001b[0mself\u001b[0m\u001b[0;34m.\u001b[0m\u001b[0m_slow_forward\u001b[0m\u001b[0;34m(\u001b[0m\u001b[0;34m*\u001b[0m\u001b[0minput\u001b[0m\u001b[0;34m,\u001b[0m \u001b[0;34m**\u001b[0m\u001b[0mkwargs\u001b[0m\u001b[0;34m)\u001b[0m\u001b[0;34m\u001b[0m\u001b[0;34m\u001b[0m\u001b[0m\n\u001b[1;32m    721\u001b[0m         \u001b[0;32melse\u001b[0m\u001b[0;34m:\u001b[0m\u001b[0;34m\u001b[0m\u001b[0;34m\u001b[0m\u001b[0m\n\u001b[0;32m--> 722\u001b[0;31m             \u001b[0mresult\u001b[0m \u001b[0;34m=\u001b[0m \u001b[0mself\u001b[0m\u001b[0;34m.\u001b[0m\u001b[0mforward\u001b[0m\u001b[0;34m(\u001b[0m\u001b[0;34m*\u001b[0m\u001b[0minput\u001b[0m\u001b[0;34m,\u001b[0m \u001b[0;34m**\u001b[0m\u001b[0mkwargs\u001b[0m\u001b[0;34m)\u001b[0m\u001b[0;34m\u001b[0m\u001b[0;34m\u001b[0m\u001b[0m\n\u001b[0m\u001b[1;32m    723\u001b[0m         for hook in itertools.chain(\n\u001b[1;32m    724\u001b[0m                 \u001b[0m_global_forward_hooks\u001b[0m\u001b[0;34m.\u001b[0m\u001b[0mvalues\u001b[0m\u001b[0;34m(\u001b[0m\u001b[0;34m)\u001b[0m\u001b[0;34m,\u001b[0m\u001b[0;34m\u001b[0m\u001b[0;34m\u001b[0m\u001b[0m\n",
      "\u001b[0;32m<ipython-input-161-3f13cff85490>\u001b[0m in \u001b[0;36mforward\u001b[0;34m(self, t, X)\u001b[0m\n\u001b[1;32m      8\u001b[0m     \u001b[0;32mdef\u001b[0m \u001b[0mforward\u001b[0m\u001b[0;34m(\u001b[0m\u001b[0mself\u001b[0m\u001b[0;34m,\u001b[0m\u001b[0mt\u001b[0m\u001b[0;34m,\u001b[0m\u001b[0mX\u001b[0m\u001b[0;34m)\u001b[0m\u001b[0;34m:\u001b[0m\u001b[0;34m\u001b[0m\u001b[0;34m\u001b[0m\u001b[0m\n\u001b[1;32m      9\u001b[0m \u001b[0;34m\u001b[0m\u001b[0m\n\u001b[0;32m---> 10\u001b[0;31m         \u001b[0mX\u001b[0m \u001b[0;34m=\u001b[0m \u001b[0mtorch\u001b[0m\u001b[0;34m.\u001b[0m\u001b[0mrelu\u001b[0m\u001b[0;34m(\u001b[0m\u001b[0mself\u001b[0m\u001b[0;34m.\u001b[0m\u001b[0mlayer1\u001b[0m\u001b[0;34m(\u001b[0m\u001b[0mX\u001b[0m\u001b[0;34m)\u001b[0m\u001b[0;34m)\u001b[0m\u001b[0;34m\u001b[0m\u001b[0;34m\u001b[0m\u001b[0m\n\u001b[0m\u001b[1;32m     11\u001b[0m         \u001b[0mX\u001b[0m \u001b[0;34m=\u001b[0m \u001b[0mtorch\u001b[0m\u001b[0;34m.\u001b[0m\u001b[0mrelu\u001b[0m\u001b[0;34m(\u001b[0m\u001b[0mself\u001b[0m\u001b[0;34m.\u001b[0m\u001b[0mlayer2\u001b[0m\u001b[0;34m(\u001b[0m\u001b[0mX\u001b[0m\u001b[0;34m)\u001b[0m\u001b[0;34m)\u001b[0m\u001b[0;34m\u001b[0m\u001b[0;34m\u001b[0m\u001b[0m\n\u001b[1;32m     12\u001b[0m         \u001b[0mX\u001b[0m \u001b[0;34m=\u001b[0m \u001b[0mself\u001b[0m\u001b[0;34m.\u001b[0m\u001b[0mlayer3\u001b[0m\u001b[0;34m(\u001b[0m\u001b[0mX\u001b[0m\u001b[0;34m)\u001b[0m\u001b[0;34m\u001b[0m\u001b[0;34m\u001b[0m\u001b[0m\n",
      "\u001b[0;32m/usr/local/lib/python3.8/dist-packages/torch/nn/modules/module.py\u001b[0m in \u001b[0;36m_call_impl\u001b[0;34m(self, *input, **kwargs)\u001b[0m\n\u001b[1;32m    720\u001b[0m             \u001b[0mresult\u001b[0m \u001b[0;34m=\u001b[0m \u001b[0mself\u001b[0m\u001b[0;34m.\u001b[0m\u001b[0m_slow_forward\u001b[0m\u001b[0;34m(\u001b[0m\u001b[0;34m*\u001b[0m\u001b[0minput\u001b[0m\u001b[0;34m,\u001b[0m \u001b[0;34m**\u001b[0m\u001b[0mkwargs\u001b[0m\u001b[0;34m)\u001b[0m\u001b[0;34m\u001b[0m\u001b[0;34m\u001b[0m\u001b[0m\n\u001b[1;32m    721\u001b[0m         \u001b[0;32melse\u001b[0m\u001b[0;34m:\u001b[0m\u001b[0;34m\u001b[0m\u001b[0;34m\u001b[0m\u001b[0m\n\u001b[0;32m--> 722\u001b[0;31m             \u001b[0mresult\u001b[0m \u001b[0;34m=\u001b[0m \u001b[0mself\u001b[0m\u001b[0;34m.\u001b[0m\u001b[0mforward\u001b[0m\u001b[0;34m(\u001b[0m\u001b[0;34m*\u001b[0m\u001b[0minput\u001b[0m\u001b[0;34m,\u001b[0m \u001b[0;34m**\u001b[0m\u001b[0mkwargs\u001b[0m\u001b[0;34m)\u001b[0m\u001b[0;34m\u001b[0m\u001b[0;34m\u001b[0m\u001b[0m\n\u001b[0m\u001b[1;32m    723\u001b[0m         for hook in itertools.chain(\n\u001b[1;32m    724\u001b[0m                 \u001b[0m_global_forward_hooks\u001b[0m\u001b[0;34m.\u001b[0m\u001b[0mvalues\u001b[0m\u001b[0;34m(\u001b[0m\u001b[0;34m)\u001b[0m\u001b[0;34m,\u001b[0m\u001b[0;34m\u001b[0m\u001b[0;34m\u001b[0m\u001b[0m\n",
      "\u001b[0;32m/usr/local/lib/python3.8/dist-packages/torch/nn/modules/linear.py\u001b[0m in \u001b[0;36mforward\u001b[0;34m(self, input)\u001b[0m\n\u001b[1;32m     89\u001b[0m \u001b[0;34m\u001b[0m\u001b[0m\n\u001b[1;32m     90\u001b[0m     \u001b[0;32mdef\u001b[0m \u001b[0mforward\u001b[0m\u001b[0;34m(\u001b[0m\u001b[0mself\u001b[0m\u001b[0;34m,\u001b[0m \u001b[0minput\u001b[0m\u001b[0;34m:\u001b[0m \u001b[0mTensor\u001b[0m\u001b[0;34m)\u001b[0m \u001b[0;34m->\u001b[0m \u001b[0mTensor\u001b[0m\u001b[0;34m:\u001b[0m\u001b[0;34m\u001b[0m\u001b[0;34m\u001b[0m\u001b[0m\n\u001b[0;32m---> 91\u001b[0;31m         \u001b[0;32mreturn\u001b[0m \u001b[0mF\u001b[0m\u001b[0;34m.\u001b[0m\u001b[0mlinear\u001b[0m\u001b[0;34m(\u001b[0m\u001b[0minput\u001b[0m\u001b[0;34m,\u001b[0m \u001b[0mself\u001b[0m\u001b[0;34m.\u001b[0m\u001b[0mweight\u001b[0m\u001b[0;34m,\u001b[0m \u001b[0mself\u001b[0m\u001b[0;34m.\u001b[0m\u001b[0mbias\u001b[0m\u001b[0;34m)\u001b[0m\u001b[0;34m\u001b[0m\u001b[0;34m\u001b[0m\u001b[0m\n\u001b[0m\u001b[1;32m     92\u001b[0m \u001b[0;34m\u001b[0m\u001b[0m\n\u001b[1;32m     93\u001b[0m     \u001b[0;32mdef\u001b[0m \u001b[0mextra_repr\u001b[0m\u001b[0;34m(\u001b[0m\u001b[0mself\u001b[0m\u001b[0;34m)\u001b[0m \u001b[0;34m->\u001b[0m \u001b[0mstr\u001b[0m\u001b[0;34m:\u001b[0m\u001b[0;34m\u001b[0m\u001b[0;34m\u001b[0m\u001b[0m\n",
      "\u001b[0;32m/usr/local/lib/python3.8/dist-packages/torch/nn/functional.py\u001b[0m in \u001b[0;36mlinear\u001b[0;34m(input, weight, bias)\u001b[0m\n\u001b[1;32m   1668\u001b[0m     \u001b[0mtens_ops\u001b[0m \u001b[0;34m=\u001b[0m \u001b[0;34m(\u001b[0m\u001b[0minput\u001b[0m\u001b[0;34m,\u001b[0m \u001b[0mweight\u001b[0m\u001b[0;34m)\u001b[0m\u001b[0;34m\u001b[0m\u001b[0;34m\u001b[0m\u001b[0m\n\u001b[1;32m   1669\u001b[0m     \u001b[0;32mif\u001b[0m \u001b[0;32mnot\u001b[0m \u001b[0mtorch\u001b[0m\u001b[0;34m.\u001b[0m\u001b[0mjit\u001b[0m\u001b[0;34m.\u001b[0m\u001b[0mis_scripting\u001b[0m\u001b[0;34m(\u001b[0m\u001b[0;34m)\u001b[0m\u001b[0;34m:\u001b[0m\u001b[0;34m\u001b[0m\u001b[0;34m\u001b[0m\u001b[0m\n\u001b[0;32m-> 1670\u001b[0;31m         \u001b[0;32mif\u001b[0m \u001b[0many\u001b[0m\u001b[0;34m(\u001b[0m\u001b[0;34m[\u001b[0m\u001b[0mtype\u001b[0m\u001b[0;34m(\u001b[0m\u001b[0mt\u001b[0m\u001b[0;34m)\u001b[0m \u001b[0;32mis\u001b[0m \u001b[0;32mnot\u001b[0m \u001b[0mTensor\u001b[0m \u001b[0;32mfor\u001b[0m \u001b[0mt\u001b[0m \u001b[0;32min\u001b[0m \u001b[0mtens_ops\u001b[0m\u001b[0;34m]\u001b[0m\u001b[0;34m)\u001b[0m \u001b[0;32mand\u001b[0m \u001b[0mhas_torch_function\u001b[0m\u001b[0;34m(\u001b[0m\u001b[0mtens_ops\u001b[0m\u001b[0;34m)\u001b[0m\u001b[0;34m:\u001b[0m\u001b[0;34m\u001b[0m\u001b[0;34m\u001b[0m\u001b[0m\n\u001b[0m\u001b[1;32m   1671\u001b[0m             \u001b[0;32mreturn\u001b[0m \u001b[0mhandle_torch_function\u001b[0m\u001b[0;34m(\u001b[0m\u001b[0mlinear\u001b[0m\u001b[0;34m,\u001b[0m \u001b[0mtens_ops\u001b[0m\u001b[0;34m,\u001b[0m \u001b[0minput\u001b[0m\u001b[0;34m,\u001b[0m \u001b[0mweight\u001b[0m\u001b[0;34m,\u001b[0m \u001b[0mbias\u001b[0m\u001b[0;34m=\u001b[0m\u001b[0mbias\u001b[0m\u001b[0;34m)\u001b[0m\u001b[0;34m\u001b[0m\u001b[0;34m\u001b[0m\u001b[0m\n\u001b[1;32m   1672\u001b[0m     \u001b[0;32mif\u001b[0m \u001b[0minput\u001b[0m\u001b[0;34m.\u001b[0m\u001b[0mdim\u001b[0m\u001b[0;34m(\u001b[0m\u001b[0;34m)\u001b[0m \u001b[0;34m==\u001b[0m \u001b[0;36m2\u001b[0m \u001b[0;32mand\u001b[0m \u001b[0mbias\u001b[0m \u001b[0;32mis\u001b[0m \u001b[0;32mnot\u001b[0m \u001b[0;32mNone\u001b[0m\u001b[0;34m:\u001b[0m\u001b[0;34m\u001b[0m\u001b[0;34m\u001b[0m\u001b[0m\n",
      "\u001b[0;32m/usr/local/lib/python3.8/dist-packages/torch/_overrides.py\u001b[0m in \u001b[0;36mhas_torch_function\u001b[0;34m(relevant_args)\u001b[0m\n\u001b[1;32m    790\u001b[0m     \u001b[0mimplementations\u001b[0m\u001b[0;34m,\u001b[0m \u001b[0;32mFalse\u001b[0m \u001b[0motherwise\u001b[0m\u001b[0;34m.\u001b[0m\u001b[0;34m\u001b[0m\u001b[0;34m\u001b[0m\u001b[0m\n\u001b[1;32m    791\u001b[0m     \"\"\"\n\u001b[0;32m--> 792\u001b[0;31m     \u001b[0;32mreturn\u001b[0m \u001b[0many\u001b[0m\u001b[0;34m(\u001b[0m\u001b[0mhasattr\u001b[0m\u001b[0;34m(\u001b[0m\u001b[0ma\u001b[0m\u001b[0;34m,\u001b[0m \u001b[0;34m'__torch_function__'\u001b[0m\u001b[0;34m)\u001b[0m \u001b[0;32mfor\u001b[0m \u001b[0ma\u001b[0m \u001b[0;32min\u001b[0m \u001b[0mrelevant_args\u001b[0m\u001b[0;34m)\u001b[0m\u001b[0;34m\u001b[0m\u001b[0;34m\u001b[0m\u001b[0m\n\u001b[0m\u001b[1;32m    793\u001b[0m \u001b[0;34m\u001b[0m\u001b[0m\n\u001b[1;32m    794\u001b[0m \u001b[0;32mdef\u001b[0m \u001b[0mget_overridable_functions\u001b[0m\u001b[0;34m(\u001b[0m\u001b[0;34m)\u001b[0m\u001b[0;34m:\u001b[0m\u001b[0;34m\u001b[0m\u001b[0;34m\u001b[0m\u001b[0m\n",
      "\u001b[0;32m/usr/local/lib/python3.8/dist-packages/torch/_overrides.py\u001b[0m in \u001b[0;36m<genexpr>\u001b[0;34m(.0)\u001b[0m\n\u001b[1;32m    790\u001b[0m     \u001b[0mimplementations\u001b[0m\u001b[0;34m,\u001b[0m \u001b[0;32mFalse\u001b[0m \u001b[0motherwise\u001b[0m\u001b[0;34m.\u001b[0m\u001b[0;34m\u001b[0m\u001b[0;34m\u001b[0m\u001b[0m\n\u001b[1;32m    791\u001b[0m     \"\"\"\n\u001b[0;32m--> 792\u001b[0;31m     \u001b[0;32mreturn\u001b[0m \u001b[0many\u001b[0m\u001b[0;34m(\u001b[0m\u001b[0mhasattr\u001b[0m\u001b[0;34m(\u001b[0m\u001b[0ma\u001b[0m\u001b[0;34m,\u001b[0m \u001b[0;34m'__torch_function__'\u001b[0m\u001b[0;34m)\u001b[0m \u001b[0;32mfor\u001b[0m \u001b[0ma\u001b[0m \u001b[0;32min\u001b[0m \u001b[0mrelevant_args\u001b[0m\u001b[0;34m)\u001b[0m\u001b[0;34m\u001b[0m\u001b[0;34m\u001b[0m\u001b[0m\n\u001b[0m\u001b[1;32m    793\u001b[0m \u001b[0;34m\u001b[0m\u001b[0m\n\u001b[1;32m    794\u001b[0m \u001b[0;32mdef\u001b[0m \u001b[0mget_overridable_functions\u001b[0m\u001b[0;34m(\u001b[0m\u001b[0;34m)\u001b[0m\u001b[0;34m:\u001b[0m\u001b[0;34m\u001b[0m\u001b[0;34m\u001b[0m\u001b[0m\n",
      "\u001b[0;31mKeyboardInterrupt\u001b[0m: "
     ]
    }
   ],
   "source": [
    "\n",
    "m = Net(2)\n",
    "optim = torch.optim.Adam(m.parameters(),lr = 0.005)\n",
    "\n",
    "for i in range(500):\n",
    "    \n",
    "    optim.zero_grad()\n",
    "    \n",
    "    #out = m(t,xdata)\n",
    "    \n",
    "    out = odeint(m,y0,t)\n",
    "    \n",
    "    _out = out[:,0,:]\n",
    "    \n",
    "    loss = torch.mean(torch.square(xdata_torch-_out))\n",
    "    \n",
    "    loss.backward()\n",
    "    \n",
    "    optim.step()\n",
    "    \n",
    "    if i%10 == 0:\n",
    "        print(i,loss)\n",
    "    "
   ]
  },
  {
   "cell_type": "code",
   "execution_count": 164,
   "metadata": {},
   "outputs": [
    {
     "ename": "IndexError",
     "evalue": "too many indices for array: array is 2-dimensional, but 3 were indexed",
     "output_type": "error",
     "traceback": [
      "\u001b[0;31m---------------------------------------------------------------------------\u001b[0m",
      "\u001b[0;31mIndexError\u001b[0m                                Traceback (most recent call last)",
      "\u001b[0;32m<ipython-input-164-f7f242ecc5d6>\u001b[0m in \u001b[0;36m<module>\u001b[0;34m\u001b[0m\n\u001b[1;32m      1\u001b[0m \u001b[0;32mwith\u001b[0m \u001b[0mtorch\u001b[0m\u001b[0;34m.\u001b[0m\u001b[0mno_grad\u001b[0m\u001b[0;34m(\u001b[0m\u001b[0;34m)\u001b[0m\u001b[0;34m:\u001b[0m\u001b[0;34m\u001b[0m\u001b[0;34m\u001b[0m\u001b[0m\n\u001b[1;32m      2\u001b[0m     \u001b[0mout\u001b[0m \u001b[0;34m=\u001b[0m \u001b[0mm\u001b[0m\u001b[0;34m(\u001b[0m\u001b[0mt\u001b[0m\u001b[0;34m,\u001b[0m\u001b[0my0\u001b[0m\u001b[0;34m)\u001b[0m\u001b[0;34m\u001b[0m\u001b[0;34m\u001b[0m\u001b[0m\n\u001b[0;32m----> 3\u001b[0;31m     \u001b[0mplt\u001b[0m\u001b[0;34m.\u001b[0m\u001b[0mplot\u001b[0m\u001b[0;34m(\u001b[0m\u001b[0mout\u001b[0m\u001b[0;34m.\u001b[0m\u001b[0mnumpy\u001b[0m\u001b[0;34m(\u001b[0m\u001b[0;34m)\u001b[0m\u001b[0;34m[\u001b[0m\u001b[0;34m:\u001b[0m\u001b[0;34m,\u001b[0m\u001b[0;36m0\u001b[0m\u001b[0;34m,\u001b[0m\u001b[0;36m0\u001b[0m\u001b[0;34m]\u001b[0m\u001b[0;34m,\u001b[0m\u001b[0mout\u001b[0m\u001b[0;34m.\u001b[0m\u001b[0mnumpy\u001b[0m\u001b[0;34m(\u001b[0m\u001b[0;34m)\u001b[0m\u001b[0;34m[\u001b[0m\u001b[0;34m:\u001b[0m\u001b[0;34m,\u001b[0m\u001b[0;36m0\u001b[0m\u001b[0;34m,\u001b[0m\u001b[0;36m1\u001b[0m\u001b[0;34m]\u001b[0m\u001b[0;34m)\u001b[0m\u001b[0;34m\u001b[0m\u001b[0;34m\u001b[0m\u001b[0m\n\u001b[0m\u001b[1;32m      4\u001b[0m     \u001b[0mplt\u001b[0m\u001b[0;34m.\u001b[0m\u001b[0mplot\u001b[0m\u001b[0;34m(\u001b[0m\u001b[0mxdata\u001b[0m\u001b[0;34m[\u001b[0m\u001b[0;34m:\u001b[0m\u001b[0;34m,\u001b[0m\u001b[0;36m0\u001b[0m\u001b[0;34m]\u001b[0m\u001b[0;34m,\u001b[0m\u001b[0mxdata\u001b[0m\u001b[0;34m[\u001b[0m\u001b[0;34m:\u001b[0m\u001b[0;34m,\u001b[0m\u001b[0;36m1\u001b[0m\u001b[0;34m]\u001b[0m\u001b[0;34m)\u001b[0m\u001b[0;34m\u001b[0m\u001b[0;34m\u001b[0m\u001b[0m\n",
      "\u001b[0;31mIndexError\u001b[0m: too many indices for array: array is 2-dimensional, but 3 were indexed"
     ]
    }
   ],
   "source": [
    "with torch.no_grad():\n",
    "    out = m(t,y0)\n",
    "    plt.plot(out.numpy()[:,0,0],out.numpy()[:,0,1])\n",
    "    plt.plot(xdata[:,0],xdata[:,1])"
   ]
  },
  {
   "cell_type": "code",
   "execution_count": 40,
   "metadata": {},
   "outputs": [],
   "source": [
    "loss = torch.sum(out)"
   ]
  },
  {
   "cell_type": "code",
   "execution_count": 41,
   "metadata": {},
   "outputs": [],
   "source": [
    "loss.backward()"
   ]
  },
  {
   "cell_type": "code",
   "execution_count": 37,
   "metadata": {},
   "outputs": [
    {
     "data": {
      "text/plain": [
       "[<matplotlib.lines.Line2D at 0x7fd91854f520>]"
      ]
     },
     "execution_count": 37,
     "metadata": {},
     "output_type": "execute_result"
    },
    {
     "data": {
      "image/png": "[encoded data removed]",
      "text/plain": [
       "<Figure size 432x288 with 1 Axes>"
      ]
     },
     "metadata": {
      "needs_background": "light"
     },
     "output_type": "display_data"
    }
   ],
   "source": [
    "plt.plot(out.detach().numpy()[:,0,0],out.detach().numpy()[:,0,1])"
   ]
  },
  {
   "cell_type": "code",
   "execution_count": 12,
   "metadata": {},
   "outputs": [
    {
     "data": {
      "text/plain": [
       "torch.Size([50, 1, 2])"
      ]
     },
     "execution_count": 12,
     "metadata": {},
     "output_type": "execute_result"
    }
   ],
   "source": [
    "np.shape(out)"
   ]
  },
  {
   "cell_type": "markdown",
   "metadata": {},
   "source": [
    "# Odenet"
   ]
  },
  {
   "cell_type": "code",
   "execution_count": null,
   "metadata": {},
   "outputs": [],
   "source": []
  },
  {
   "cell_type": "code",
   "execution_count": null,
   "metadata": {},
   "outputs": [],
   "source": []
  },
  {
   "cell_type": "code",
   "execution_count": null,
   "metadata": {},
   "outputs": [],
   "source": []
  },
  {
   "cell_type": "code",
   "execution_count": 171,
   "metadata": {},
   "outputs": [],
   "source": [
    "def _method_euler(system, x0, T):\n",
    "    \n",
    "    xs = [ x0 ]\n",
    "    \n",
    "    for i,t in enumerate(T[:-1]):\n",
    "        \n",
    "        dt = T[i+1] - t\n",
    "        \n",
    "        if i == 0:\n",
    "            x = system( x0, t)*dt + x0\n",
    "            \n",
    "            xs.append(x)\n",
    "            \n",
    "        else:\n",
    "            x = system( x, t)*dt + x\n",
    "            \n",
    "            xs.append(x)\n",
    "    \n",
    "    return xs\n",
    "\n",
    "def _rk4_step(fun, yk, tk, h):\n",
    "    \n",
    "    k1 = fun(yk, tk)\n",
    "    k2 = fun(yk + h/2*k1, tk + h/2)\n",
    "    k3 = fun(yk + h/2*k2, tk + h/2)\n",
    "    k4 = fun(yk + h*k3, tk + h)\n",
    "    \n",
    "    yk_next = yk + h/6*(k1+2*k2+2*k3+k4)\n",
    "    \n",
    "    return yk_next\n",
    "\n",
    "\n",
    "\n",
    "\n",
    "def _method_rk4(fun, y0, t,):\n",
    "    \n",
    "    step = t[1]-t[0]\n",
    "    sep = (t-torch.roll(t,+1))[1:]\n",
    "    is_regular = ((sep-step) < 1e-4).all()\n",
    "    \n",
    "    y = []\n",
    "    \n",
    "\n",
    "\n",
    "    h = step\n",
    "    yk = y0\n",
    "    y.append(yk)\n",
    "    for i in range(1,len(t)):\n",
    "        yknext = _rk4_step(fun, yk, t[i-1], h)\n",
    "        yk = yknext\n",
    "        y.append(yk)\n",
    "        \n",
    "    \n",
    "    return y\n",
    "\n",
    "                       \n",
    "def odeint_adjoint(fun, x0, T, method = \"rk4\"):\n",
    "    \n",
    "    if method == \"euler\":\n",
    "        \n",
    "        xs = _method_euler(fun, x0, T)\n",
    "        \n",
    "    elif method == \"rk4\":\n",
    "        \n",
    "        xs = _method_rk4(fun, x0, T)\n",
    "    return xs\n",
    "\n",
    "\n",
    "    \n",
    "A = torch.nn.Parameter(  torch.tensor(np.array([[0.,1.],[-1.,-0.1]]) ).float())\n",
    "\n",
    "def system(x,t,params):\n",
    "    A=params[\"A\"]\n",
    "    dxdt = torch.matmul(A,x.T)\n",
    "    return [dxdt[0],dxdt[1]]\n",
    "\n",
    "params = {\"A\": A}\n",
    "\n",
    "def lorenz(x,t, params ):\n",
    "    '''\n",
    "    Given:\n",
    "       x, y, z: a point of interest in three dimensional space\n",
    "       s, r, b: parameters defining the lorenz attractor\n",
    "    Returns:\n",
    "       x_dot, y_dot, z_dot: values of the lorenz attractor's partial\n",
    "           derivatives at the point x, y, z\n",
    "    '''\n",
    "\n",
    "    x,y,z = x[:,0],x[:,1],x[:,2]\n",
    "    s,r,b = params[\"s\"],params[\"r\"],params[\"b\"]\n",
    "    x_dot = s*(y - x)\n",
    "    y_dot = r*x - y - x*z\n",
    "    z_dot = x*y - b*z\n",
    "    s_dot = z*y - s*z\n",
    "    u_dot = z*y - b*x\n",
    "    return torch.cat([x_dot.view(-1,1),y_dot.view(-1,1),z_dot.view(-1,1),s_dot.view(-1,1),u_dot.view(-1,1)],dim = 1)\n",
    "\n",
    "    \n",
    "params = dict(s=torch.nn.Parameter(torch.tensor(9.).float()), r=torch.nn.Parameter(torch.tensor(15.).float()), b=torch.nn.Parameter(torch.tensor(1.367).float()))\n",
    "    \n",
    "params = torch.nn.ParameterDict(params)\n",
    "\n",
    "linear1 = torch.nn.Linear(1,5)\n",
    "linear2 = torch.nn.Linear(5,1)\n",
    "\n",
    "def model(x,t):\n",
    "    x = linear1(x)\n",
    "    for i in range(len(t)):\n",
    "        xnext = lorenz(x,t[i],params)*(t[1]-t[0])+x\n",
    "        x = xnext\n",
    "    x = linear2(x)\n",
    "    return x"
   ]
  },
  {
   "cell_type": "code",
   "execution_count": 172,
   "metadata": {},
   "outputs": [],
   "source": [
    "x = torch.rand((100,3)).view(-1,1).float()\n",
    "y = torch.sin(8*x)*x**2"
   ]
  },
  {
   "cell_type": "code",
   "execution_count": 173,
   "metadata": {},
   "outputs": [
    {
     "data": {
      "text/plain": [
       "[<matplotlib.lines.Line2D at 0x7fae2cfda400>]"
      ]
     },
     "execution_count": 173,
     "metadata": {},
     "output_type": "execute_result"
    },
    {
     "data": {
      "image/png": "[encoded data removed]",
      "text/plain": [
       "<Figure size 432x288 with 1 Axes>"
      ]
     },
     "metadata": {
      "needs_background": "light"
     },
     "output_type": "display_data"
    }
   ],
   "source": [
    "plt.plot(x,y,'.')"
   ]
  },
  {
   "cell_type": "code",
   "execution_count": 213,
   "metadata": {},
   "outputs": [],
   "source": [
    "optim = torch.optim.Adam(params.values(),lr = 0.5)\n",
    "\n",
    "\n",
    "t = torch.arange(0,6,0.02).float()"
   ]
  },
  {
   "cell_type": "code",
   "execution_count": 214,
   "metadata": {},
   "outputs": [
    {
     "name": "stdout",
     "output_type": "stream",
     "text": [
      "tensor(0.0044, grad_fn=<MeanBackward0>)\n",
      "tensor(0.1119, grad_fn=<MeanBackward0>)\n",
      "tensor(0.0969, grad_fn=<MeanBackward0>)\n",
      "tensor(0.0965, grad_fn=<MeanBackward0>)\n",
      "tensor(0.0964, grad_fn=<MeanBackward0>)\n"
     ]
    },
    {
     "ename": "KeyboardInterrupt",
     "evalue": "",
     "output_type": "error",
     "traceback": [
      "\u001b[0;31m---------------------------------------------------------------------------\u001b[0m",
      "\u001b[0;31mKeyboardInterrupt\u001b[0m                         Traceback (most recent call last)",
      "\u001b[0;32m<ipython-input-214-124345854986>\u001b[0m in \u001b[0;36m<module>\u001b[0;34m\u001b[0m\n\u001b[1;32m      7\u001b[0m     \u001b[0mloss\u001b[0m \u001b[0;34m=\u001b[0m \u001b[0mtorch\u001b[0m\u001b[0;34m.\u001b[0m\u001b[0mmean\u001b[0m\u001b[0;34m(\u001b[0m \u001b[0;34m(\u001b[0m\u001b[0mout\u001b[0m\u001b[0;34m-\u001b[0m\u001b[0my\u001b[0m\u001b[0;34m)\u001b[0m\u001b[0;34m**\u001b[0m\u001b[0;36m2\u001b[0m\u001b[0;34m)\u001b[0m\u001b[0;34m\u001b[0m\u001b[0;34m\u001b[0m\u001b[0m\n\u001b[1;32m      8\u001b[0m \u001b[0;34m\u001b[0m\u001b[0m\n\u001b[0;32m----> 9\u001b[0;31m     \u001b[0mloss\u001b[0m\u001b[0;34m.\u001b[0m\u001b[0mbackward\u001b[0m\u001b[0;34m(\u001b[0m\u001b[0;34m)\u001b[0m\u001b[0;34m\u001b[0m\u001b[0;34m\u001b[0m\u001b[0m\n\u001b[0m\u001b[1;32m     10\u001b[0m \u001b[0;34m\u001b[0m\u001b[0m\n\u001b[1;32m     11\u001b[0m     \u001b[0moptim\u001b[0m\u001b[0;34m.\u001b[0m\u001b[0mstep\u001b[0m\u001b[0;34m(\u001b[0m\u001b[0;34m)\u001b[0m\u001b[0;34m\u001b[0m\u001b[0;34m\u001b[0m\u001b[0m\n",
      "\u001b[0;32m/usr/local/lib/python3.8/dist-packages/torch/tensor.py\u001b[0m in \u001b[0;36mbackward\u001b[0;34m(self, gradient, retain_graph, create_graph)\u001b[0m\n\u001b[1;32m    183\u001b[0m                 \u001b[0mproducts\u001b[0m\u001b[0;34m.\u001b[0m \u001b[0mDefaults\u001b[0m \u001b[0mto\u001b[0m\u001b[0;31m \u001b[0m\u001b[0;31m`\u001b[0m\u001b[0;31m`\u001b[0m\u001b[0;32mFalse\u001b[0m\u001b[0;31m`\u001b[0m\u001b[0;31m`\u001b[0m\u001b[0;34m.\u001b[0m\u001b[0;34m\u001b[0m\u001b[0;34m\u001b[0m\u001b[0m\n\u001b[1;32m    184\u001b[0m         \"\"\"\n\u001b[0;32m--> 185\u001b[0;31m         \u001b[0mtorch\u001b[0m\u001b[0;34m.\u001b[0m\u001b[0mautograd\u001b[0m\u001b[0;34m.\u001b[0m\u001b[0mbackward\u001b[0m\u001b[0;34m(\u001b[0m\u001b[0mself\u001b[0m\u001b[0;34m,\u001b[0m \u001b[0mgradient\u001b[0m\u001b[0;34m,\u001b[0m \u001b[0mretain_graph\u001b[0m\u001b[0;34m,\u001b[0m \u001b[0mcreate_graph\u001b[0m\u001b[0;34m)\u001b[0m\u001b[0;34m\u001b[0m\u001b[0;34m\u001b[0m\u001b[0m\n\u001b[0m\u001b[1;32m    186\u001b[0m \u001b[0;34m\u001b[0m\u001b[0m\n\u001b[1;32m    187\u001b[0m     \u001b[0;32mdef\u001b[0m \u001b[0mregister_hook\u001b[0m\u001b[0;34m(\u001b[0m\u001b[0mself\u001b[0m\u001b[0;34m,\u001b[0m \u001b[0mhook\u001b[0m\u001b[0;34m)\u001b[0m\u001b[0;34m:\u001b[0m\u001b[0;34m\u001b[0m\u001b[0;34m\u001b[0m\u001b[0m\n",
      "\u001b[0;32m/usr/local/lib/python3.8/dist-packages/torch/autograd/__init__.py\u001b[0m in \u001b[0;36mbackward\u001b[0;34m(tensors, grad_tensors, retain_graph, create_graph, grad_variables)\u001b[0m\n\u001b[1;32m    123\u001b[0m         \u001b[0mretain_graph\u001b[0m \u001b[0;34m=\u001b[0m \u001b[0mcreate_graph\u001b[0m\u001b[0;34m\u001b[0m\u001b[0;34m\u001b[0m\u001b[0m\n\u001b[1;32m    124\u001b[0m \u001b[0;34m\u001b[0m\u001b[0m\n\u001b[0;32m--> 125\u001b[0;31m     Variable._execution_engine.run_backward(\n\u001b[0m\u001b[1;32m    126\u001b[0m         \u001b[0mtensors\u001b[0m\u001b[0;34m,\u001b[0m \u001b[0mgrad_tensors\u001b[0m\u001b[0;34m,\u001b[0m \u001b[0mretain_graph\u001b[0m\u001b[0;34m,\u001b[0m \u001b[0mcreate_graph\u001b[0m\u001b[0;34m,\u001b[0m\u001b[0;34m\u001b[0m\u001b[0;34m\u001b[0m\u001b[0m\n\u001b[1;32m    127\u001b[0m         allow_unreachable=True)  # allow_unreachable flag\n",
      "\u001b[0;31mKeyboardInterrupt\u001b[0m: "
     ]
    }
   ],
   "source": [
    "for i in range(500):\n",
    "    optim.zero_grad()\n",
    "    \n",
    "    \n",
    "    out = model(x,t)\n",
    "    \n",
    "    loss = torch.mean( (out-y)**2)\n",
    "    \n",
    "    loss.backward()\n",
    "    \n",
    "    optim.step()\n",
    "    \n",
    "    if i%30 == 0:\n",
    "        print(loss)"
   ]
  },
  {
   "cell_type": "code",
   "execution_count": 142,
   "metadata": {},
   "outputs": [
    {
     "data": {
      "text/plain": [
       "odict_values([Parameter containing:\n",
       "tensor(1.0572, requires_grad=True), Parameter containing:\n",
       "tensor(16.0283, requires_grad=True), Parameter containing:\n",
       "tensor(9.3296, requires_grad=True)])"
      ]
     },
     "execution_count": 142,
     "metadata": {},
     "output_type": "execute_result"
    }
   ],
   "source": [
    "params.values()"
   ]
  },
  {
   "cell_type": "code",
   "execution_count": 215,
   "metadata": {},
   "outputs": [],
   "source": [
    "outs = model(x,t)"
   ]
  },
  {
   "cell_type": "code",
   "execution_count": 216,
   "metadata": {},
   "outputs": [],
   "source": [
    "outs = outs.detach().numpy()"
   ]
  },
  {
   "cell_type": "code",
   "execution_count": 217,
   "metadata": {},
   "outputs": [
    {
     "data": {
      "text/plain": [
       "[<matplotlib.lines.Line2D at 0x7fae2c9ab580>]"
      ]
     },
     "execution_count": 217,
     "metadata": {},
     "output_type": "execute_result"
    },
    {
     "data": {
      "image/png": "[encoded data removed]",
      "text/plain": [
       "<Figure size 432x288 with 1 Axes>"
      ]
     },
     "metadata": {
      "needs_background": "light"
     },
     "output_type": "display_data"
    }
   ],
   "source": [
    "plt.plot(x.numpy()[:,0],outs[:,0],'.')\n",
    "plt.plot(x.numpy()[:,0],y.numpy()[:,0],'.')"
   ]
  },
  {
   "cell_type": "code",
   "execution_count": null,
   "metadata": {},
   "outputs": [],
   "source": []
  }
 ],
 "metadata": {
  "kernelspec": {
   "display_name": "Python 3",
   "language": "python",
   "name": "python3"
  },
  "language_info": {
   "codemirror_mode": {
    "name": "ipython",
    "version": 3
   },
   "file_extension": ".py",
   "mimetype": "text/x-python",
   "name": "python",
   "nbconvert_exporter": "python",
   "pygments_lexer": "ipython3",
   "version": "3.8.2"
  }
 },
 "nbformat": 4,
 "nbformat_minor": 4
}
